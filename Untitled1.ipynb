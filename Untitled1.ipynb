{
 "cells": [
  {
   "cell_type": "code",
   "execution_count": 1,
   "id": "b7436cc6-55b4-4695-8e4a-2a8d18df843c",
   "metadata": {},
   "outputs": [],
   "source": [
    "import pandas as pd"
   ]
  },
  {
   "cell_type": "code",
   "execution_count": 16,
   "id": "7bfd52ef-01e9-4e82-b8ed-148ff542be7c",
   "metadata": {},
   "outputs": [],
   "source": [
    "data = {\n",
    "    'name': ['Sukitja', 'test'],\n",
    "    'location': ['กรุงเทพฯ', 'กทม.'],\n",
    "}"
   ]
  },
  {
   "cell_type": "code",
   "execution_count": 18,
   "id": "e5b0c396-4efc-4ba4-9edc-dbcebc1aa207",
   "metadata": {},
   "outputs": [],
   "source": [
    "df = pd.DataFrame(data)"
   ]
  },
  {
   "cell_type": "code",
   "execution_count": 19,
   "id": "3e6bb5b8-c1ea-4884-8ea3-8c47c838acb3",
   "metadata": {},
   "outputs": [
    {
     "data": {
      "text/html": [
       "<div>\n",
       "<style scoped>\n",
       "    .dataframe tbody tr th:only-of-type {\n",
       "        vertical-align: middle;\n",
       "    }\n",
       "\n",
       "    .dataframe tbody tr th {\n",
       "        vertical-align: top;\n",
       "    }\n",
       "\n",
       "    .dataframe thead th {\n",
       "        text-align: right;\n",
       "    }\n",
       "</style>\n",
       "<table border=\"1\" class=\"dataframe\">\n",
       "  <thead>\n",
       "    <tr style=\"text-align: right;\">\n",
       "      <th></th>\n",
       "      <th>name</th>\n",
       "      <th>location</th>\n",
       "    </tr>\n",
       "  </thead>\n",
       "  <tbody>\n",
       "    <tr>\n",
       "      <th>0</th>\n",
       "      <td>Sukitja</td>\n",
       "      <td>กรุงเทพฯ</td>\n",
       "    </tr>\n",
       "    <tr>\n",
       "      <th>1</th>\n",
       "      <td>test</td>\n",
       "      <td>กทม.</td>\n",
       "    </tr>\n",
       "  </tbody>\n",
       "</table>\n",
       "</div>"
      ],
      "text/plain": [
       "      name  location\n",
       "0  Sukitja  กรุงเทพฯ\n",
       "1     test      กทม."
      ]
     },
     "execution_count": 19,
     "metadata": {},
     "output_type": "execute_result"
    }
   ],
   "source": [
    "df.head()"
   ]
  },
  {
   "cell_type": "code",
   "execution_count": 20,
   "id": "9aae801e-6aac-402e-ae62-b617ce2246a1",
   "metadata": {},
   "outputs": [],
   "source": [
    "# def clean_thai_province(value):\n",
    "#     if value == 'กทม.' or value == 'กรุงเทพฯ':\n",
    "#         return 'ฺBangkok'"
   ]
  },
  {
   "cell_type": "code",
   "execution_count": 32,
   "id": "54333448-fbe0-4568-842c-d7f4b9e3c131",
   "metadata": {},
   "outputs": [],
   "source": [
    "bangkok_variations = ['กทม.', 'กรุงเทพฯ']"
   ]
  },
  {
   "cell_type": "code",
   "execution_count": 39,
   "id": "f7a380c3-434e-460e-83b5-749eac8061ba",
   "metadata": {},
   "outputs": [],
   "source": [
    "def clean_thai_province(value):\n",
    "    if value in bangkok_variations:\n",
    "        return 'Bangkok'"
   ]
  },
  {
   "cell_type": "code",
   "execution_count": 40,
   "id": "f7819641-d7e7-4e68-b7af-23a7e92db951",
   "metadata": {},
   "outputs": [
    {
     "data": {
      "text/plain": [
       "0    กรุงเทพฯ\n",
       "1        กทม.\n",
       "Name: location, dtype: object"
      ]
     },
     "execution_count": 40,
     "metadata": {},
     "output_type": "execute_result"
    }
   ],
   "source": [
    "df['location']"
   ]
  },
  {
   "cell_type": "code",
   "execution_count": 22,
   "id": "07f8596d-6eb9-4728-815b-da682ec1e2d4",
   "metadata": {},
   "outputs": [
    {
     "data": {
      "text/plain": [
       "0    กรุงเทพฯ\n",
       "1        กทม.\n",
       "Name: location, dtype: object"
      ]
     },
     "execution_count": 22,
     "metadata": {},
     "output_type": "execute_result"
    }
   ],
   "source": [
    "# df.location\n",
    "# เหมือนแบบบน แต่ใช้แบบเดียวที่ถนัดดีกว่า"
   ]
  },
  {
   "cell_type": "code",
   "execution_count": 41,
   "id": "e0f9d8e1-b951-4a7b-bce1-d4a2e66b2a26",
   "metadata": {},
   "outputs": [
    {
     "data": {
      "text/plain": [
       "0    Bangkok\n",
       "1    Bangkok\n",
       "Name: location, dtype: object"
      ]
     },
     "execution_count": 41,
     "metadata": {},
     "output_type": "execute_result"
    }
   ],
   "source": [
    "df['location'].map(clean_thai_province)\n",
    "# df['location'].apply(clean_thai_province) ได้ผลเหมือนกัน"
   ]
  },
  {
   "cell_type": "code",
   "execution_count": 28,
   "id": "a35c41b0-71ad-409b-a992-04dab3fab450",
   "metadata": {},
   "outputs": [],
   "source": [
    "df2 = df.copy(deep = True)"
   ]
  },
  {
   "cell_type": "code",
   "execution_count": 30,
   "id": "08d3eff1-22c3-4592-9f37-4a75bf146e06",
   "metadata": {},
   "outputs": [],
   "source": [
    "df2['location'] = df['location'].map(clean_thai_province)"
   ]
  },
  {
   "cell_type": "code",
   "execution_count": 31,
   "id": "d7f5a120-cb7e-42d5-b114-c36b6404d720",
   "metadata": {},
   "outputs": [
    {
     "data": {
      "text/html": [
       "<div>\n",
       "<style scoped>\n",
       "    .dataframe tbody tr th:only-of-type {\n",
       "        vertical-align: middle;\n",
       "    }\n",
       "\n",
       "    .dataframe tbody tr th {\n",
       "        vertical-align: top;\n",
       "    }\n",
       "\n",
       "    .dataframe thead th {\n",
       "        text-align: right;\n",
       "    }\n",
       "</style>\n",
       "<table border=\"1\" class=\"dataframe\">\n",
       "  <thead>\n",
       "    <tr style=\"text-align: right;\">\n",
       "      <th></th>\n",
       "      <th>name</th>\n",
       "      <th>location</th>\n",
       "    </tr>\n",
       "  </thead>\n",
       "  <tbody>\n",
       "    <tr>\n",
       "      <th>0</th>\n",
       "      <td>Sukitja</td>\n",
       "      <td>ฺBangkok</td>\n",
       "    </tr>\n",
       "    <tr>\n",
       "      <th>1</th>\n",
       "      <td>test</td>\n",
       "      <td>ฺBangkok</td>\n",
       "    </tr>\n",
       "  </tbody>\n",
       "</table>\n",
       "</div>"
      ],
      "text/plain": [
       "      name  location\n",
       "0  Sukitja  ฺBangkok\n",
       "1     test  ฺBangkok"
      ]
     },
     "execution_count": 31,
     "metadata": {},
     "output_type": "execute_result"
    }
   ],
   "source": [
    "df2"
   ]
  },
  {
   "cell_type": "code",
   "execution_count": null,
   "id": "82719ccb-9605-4652-ab1f-71c5ec177c44",
   "metadata": {},
   "outputs": [],
   "source": []
  },
  {
   "cell_type": "code",
   "execution_count": null,
   "id": "38c7192e-43f1-4a05-865d-46bd234f8c57",
   "metadata": {},
   "outputs": [],
   "source": []
  },
  {
   "cell_type": "code",
   "execution_count": null,
   "id": "5537d3a2-b768-4b7f-b511-7e462c15568c",
   "metadata": {},
   "outputs": [],
   "source": []
  },
  {
   "cell_type": "code",
   "execution_count": null,
   "id": "fb7d0814-c39a-4697-aea5-b7c3f41a09f8",
   "metadata": {},
   "outputs": [],
   "source": []
  },
  {
   "cell_type": "code",
   "execution_count": null,
   "id": "16687402-1d3d-4e4b-88ba-c37b2b604e77",
   "metadata": {},
   "outputs": [],
   "source": []
  },
  {
   "cell_type": "code",
   "execution_count": null,
   "id": "6cb57328-7769-4b3b-9b37-35261597dc07",
   "metadata": {},
   "outputs": [],
   "source": []
  },
  {
   "cell_type": "code",
   "execution_count": null,
   "id": "11ce929e-0bd4-4b1c-85dd-dba67c4a0359",
   "metadata": {},
   "outputs": [],
   "source": []
  },
  {
   "cell_type": "code",
   "execution_count": null,
   "id": "2b90f366-3636-4b14-9f30-4ca55475c255",
   "metadata": {},
   "outputs": [],
   "source": []
  }
 ],
 "metadata": {
  "kernelspec": {
   "display_name": "Python 3 (ipykernel)",
   "language": "python",
   "name": "python3"
  },
  "language_info": {
   "codemirror_mode": {
    "name": "ipython",
    "version": 3
   },
   "file_extension": ".py",
   "mimetype": "text/x-python",
   "name": "python",
   "nbconvert_exporter": "python",
   "pygments_lexer": "ipython3",
   "version": "3.10.8"
  }
 },
 "nbformat": 4,
 "nbformat_minor": 5
}
